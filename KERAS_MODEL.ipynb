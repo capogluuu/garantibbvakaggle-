{
 "cells": [
  {
   "cell_type": "code",
   "execution_count": 19,
   "metadata": {},
   "outputs": [
    {
     "name": "stderr",
     "output_type": "stream",
     "text": [
      "Invalid parameter(s)\n",
      "RESET { SESSION }\n"
     ]
    }
   ],
   "source": []
  },
  {
   "cell_type": "code",
   "execution_count": 1,
   "metadata": {},
   "outputs": [],
   "source": [
    "import pandas as pd\n",
    "df=pd.read_csv(\"islenmis.csv\")"
   ]
  },
  {
   "cell_type": "code",
   "execution_count": 2,
   "metadata": {},
   "outputs": [],
   "source": [
    "import tensorflow as tf\n",
    "from tensorflow.keras import Sequential\n",
    "from tensorflow.keras.layers import BatchNormalization,Dropout,Dense,Flatten,Conv1D\n",
    "from tensorflow.keras.optimizers import Adam"
   ]
  },
  {
   "cell_type": "code",
   "execution_count": 3,
   "metadata": {},
   "outputs": [],
   "source": [
    "import numpy as np\n",
    "import matplotlib.pyplot as plt\n",
    "%matplotlib inline"
   ]
  },
  {
   "cell_type": "code",
   "execution_count": 4,
   "metadata": {},
   "outputs": [],
   "source": [
    "from sklearn.model_selection import train_test_split\n",
    "from sklearn.preprocessing import StandardScaler"
   ]
  },
  {
   "cell_type": "code",
   "execution_count": 5,
   "metadata": {},
   "outputs": [],
   "source": [
    "del df[\"Unnamed: 0\"]"
   ]
  },
  {
   "cell_type": "code",
   "execution_count": 6,
   "metadata": {},
   "outputs": [
    {
     "name": "stdout",
     "output_type": "stream",
     "text": [
      "<class 'pandas.core.frame.DataFrame'>\n",
      "RangeIndex: 173589 entries, 0 to 173588\n",
      "Data columns (total 40 columns):\n",
      "ADDCONTAMNT       173589 non-null float64\n",
      "ACCMVMTAVG        173589 non-null float64\n",
      "ACCAMNTAVG03      173589 non-null float64\n",
      "ACCACVNUM12       173589 non-null float64\n",
      "ACCAMNTAVG12      173589 non-null float64\n",
      "CARDDINSUM12      173589 non-null float64\n",
      "DISTNUM12         173589 non-null float64\n",
      "INTPHNNUM03       173589 non-null float64\n",
      "INTLOGNUM12       173589 non-null float64\n",
      "DEMINFO1          173589 non-null float64\n",
      "DEMINFO2          173589 non-null float64\n",
      "CRRASTALL         173589 non-null float64\n",
      "ASTAVGDIF0312     173589 non-null float64\n",
      "EFTAMNTSUM12      173589 non-null float64\n",
      "MAXMATEVR         173589 non-null float64\n",
      "DEBTAVG00         173589 non-null float64\n",
      "LSTPRDCNUM        173589 non-null float64\n",
      "DESACCUAMNT       173589 non-null float64\n",
      "CONTPAIDAMNT00    173589 non-null float64\n",
      "CONTPAIDAMNT01    173589 non-null float64\n",
      "CONTPAIDAMNT02    173589 non-null float64\n",
      "CONTPAIDAMNT03    173589 non-null float64\n",
      "CONTPAIDAMNT04    173589 non-null float64\n",
      "CONTPAIDAMNT05    173589 non-null float64\n",
      "CONTPAIDAMNT06    173589 non-null float64\n",
      "CONTPAIDAMNT07    173589 non-null float64\n",
      "CONTPAIDAMNT08    173589 non-null float64\n",
      "CONTPAIDAMNT09    173589 non-null float64\n",
      "CONTPAIDAMNT10    173589 non-null float64\n",
      "CONTPAIDAMNT11    173589 non-null float64\n",
      "CONTDEBTNUM       173589 non-null float64\n",
      "CONTMONTHAMNT     173589 non-null float64\n",
      "RTRNDESVAMNT      173589 non-null float64\n",
      "MAXTIMECONTR      173589 non-null float64\n",
      "CONTCOLLAMNT      173589 non-null float64\n",
      "Dolar             173589 non-null float64\n",
      "Tufe_Ay           173589 non-null float64\n",
      "Tufe_Yıl          173589 non-null float64\n",
      "Tatil             173589 non-null float64\n",
      "Bist30            173589 non-null float64\n",
      "dtypes: float64(40)\n",
      "memory usage: 53.0 MB\n"
     ]
    }
   ],
   "source": [
    "df.info()"
   ]
  },
  {
   "cell_type": "code",
   "execution_count": 7,
   "metadata": {},
   "outputs": [],
   "source": [
    "del df[\"CONTPAIDAMNT07\"]"
   ]
  },
  {
   "cell_type": "code",
   "execution_count": 8,
   "metadata": {},
   "outputs": [],
   "source": [
    "X = df.drop(['ADDCONTAMNT'],axis=1)\n",
    "y=df['ADDCONTAMNT']"
   ]
  },
  {
   "cell_type": "code",
   "execution_count": 9,
   "metadata": {},
   "outputs": [],
   "source": [
    "X_train,X_test,y_train,y_test=train_test_split(X,y,test_size=0.2,random_state = 0)"
   ]
  },
  {
   "cell_type": "code",
   "execution_count": 10,
   "metadata": {},
   "outputs": [
    {
     "data": {
      "text/plain": [
       "((138871, 38), (34718, 38))"
      ]
     },
     "execution_count": 10,
     "metadata": {},
     "output_type": "execute_result"
    }
   ],
   "source": [
    "X_train.shape,X_test.shape"
   ]
  },
  {
   "cell_type": "code",
   "execution_count": 11,
   "metadata": {},
   "outputs": [],
   "source": [
    "scaler=StandardScaler()\n",
    "y_train=y_train.to_numpy()\n",
    "y_test=y_test.to_numpy()\n",
    "X_train=scaler.fit_transform(X_train)\n",
    "X_test=scaler.transform(X_test)"
   ]
  },
  {
   "cell_type": "code",
   "execution_count": 12,
   "metadata": {},
   "outputs": [],
   "source": [
    "X_train=X_train.reshape(X_train.shape[0],X_train.shape[1],1)\n",
    "X_test=X_test.reshape(X_test.shape[0],X_test.shape[1],1)"
   ]
  },
  {
   "cell_type": "code",
   "execution_count": 19,
   "metadata": {},
   "outputs": [],
   "source": [
    "model=Sequential()\n",
    "model.add(Conv1D(128,2,activation='relu',input_shape=X_train[0].shape))\n",
    "model.add(BatchNormalization())\n",
    "model.add(Dropout(0.2))\n",
    "\n",
    "model.add(Conv1D(256,2,activation='relu'))\n",
    "model.add(BatchNormalization())\n",
    "model.add(Dropout(0.5))\n",
    "\n",
    "model.add(Flatten())\n",
    "model.add(Dense(128,activation='relu'))\n",
    "model.add(Dropout(0.5))\n",
    "\n",
    "model.add(Dense(1,activation='linear'))"
   ]
  },
  {
   "cell_type": "code",
   "execution_count": 20,
   "metadata": {},
   "outputs": [
    {
     "name": "stdout",
     "output_type": "stream",
     "text": [
      "Model: \"sequential_1\"\n",
      "_________________________________________________________________\n",
      "Layer (type)                 Output Shape              Param #   \n",
      "=================================================================\n",
      "conv1d_2 (Conv1D)            (None, 37, 128)           384       \n",
      "_________________________________________________________________\n",
      "batch_normalization_2 (Batch (None, 37, 128)           512       \n",
      "_________________________________________________________________\n",
      "dropout_3 (Dropout)          (None, 37, 128)           0         \n",
      "_________________________________________________________________\n",
      "conv1d_3 (Conv1D)            (None, 36, 256)           65792     \n",
      "_________________________________________________________________\n",
      "batch_normalization_3 (Batch (None, 36, 256)           1024      \n",
      "_________________________________________________________________\n",
      "dropout_4 (Dropout)          (None, 36, 256)           0         \n",
      "_________________________________________________________________\n",
      "flatten_1 (Flatten)          (None, 9216)              0         \n",
      "_________________________________________________________________\n",
      "dense_2 (Dense)              (None, 128)               1179776   \n",
      "_________________________________________________________________\n",
      "dropout_5 (Dropout)          (None, 128)               0         \n",
      "_________________________________________________________________\n",
      "dense_3 (Dense)              (None, 1)                 129       \n",
      "=================================================================\n",
      "Total params: 1,247,617\n",
      "Trainable params: 1,246,849\n",
      "Non-trainable params: 768\n",
      "_________________________________________________________________\n"
     ]
    }
   ],
   "source": [
    "model.summary()"
   ]
  },
  {
   "cell_type": "code",
   "execution_count": 21,
   "metadata": {},
   "outputs": [],
   "source": [
    "model.compile(optimizer=Adam(learning_rate=0.03),\n",
    "              loss='mse',\n",
    "              metrics=['accuracy'])\n"
   ]
  },
  {
   "cell_type": "code",
   "execution_count": 22,
   "metadata": {},
   "outputs": [
    {
     "name": "stdout",
     "output_type": "stream",
     "text": [
      "Train on 138871 samples, validate on 34718 samples\n",
      "138871/138871 [==============================] - 174s 1ms/sample - loss: 62407363.5041 - acc: 0.0595 - val_loss: 49016743.5613 - val_acc: 0.0015\n"
     ]
    }
   ],
   "source": [
    "history = model.fit(X_train,y_train,epochs=1,validation_data=(X_test,y_test))"
   ]
  },
  {
   "cell_type": "code",
   "execution_count": 23,
   "metadata": {},
   "outputs": [],
   "source": [
    "y_pred = model.predict(X_test)\n"
   ]
  },
  {
   "cell_type": "code",
   "execution_count": 24,
   "metadata": {},
   "outputs": [
    {
     "name": "stdout",
     "output_type": "stream",
     "text": [
      "7001.1958647679685\n"
     ]
    }
   ],
   "source": [
    "from sklearn.metrics import mean_squared_error\n",
    "rmse   = np.sqrt(mean_squared_error(y_test, y_pred))\n",
    "print(rmse)"
   ]
  },
  {
   "cell_type": "code",
   "execution_count": null,
   "metadata": {},
   "outputs": [],
   "source": [
    "df_test = pd.read_csv(\"islenmis_test.csv\")\n",
    "del df_test[\"Unnamed: 0\"]\n",
    "\n",
    "def davranis_ekle_x(df):\n",
    "    df.loc[(df['RTRNDESVAMNT'] >=- 467736.0) & (df['RTRNDESVAMNT'] < 1642.0),  'DAVRANIS'] = 'CAT_1'\n",
    "    df.loc[(df['RTRNDESVAMNT'] >= 1642.0)    & (df['RTRNDESVAMNT'] < 4220.0),  'DAVRANIS'] = 'CAT_2'\n",
    "    df.loc[(df['RTRNDESVAMNT'] >= 4220.0)    & (df['RTRNDESVAMNT'] < 6863.0),  'DAVRANIS'] = 'CAT_3'\n",
    "    df.loc[(df['RTRNDESVAMNT'] >= 6863.0)    & (df['RTRNDESVAMNT'] < 9814.0),  'DAVRANIS'] = 'CAT_4'\n",
    "    df.loc[(df['RTRNDESVAMNT'] >= 9814.0)    & (df['RTRNDESVAMNT'] < 13433.0), 'DAVRANIS'] = 'CAT_5'\n",
    "    df.loc[(df['RTRNDESVAMNT'] >= 13433.0)   & (df['RTRNDESVAMNT'] < 18380.0), 'DAVRANIS'] = 'CAT_6'\n",
    "    df.loc[(df['RTRNDESVAMNT'] >= 18380.0)   & (df['RTRNDESVAMNT'] < 26132.0), 'DAVRANIS'] = 'CAT_7'\n",
    "    df.loc[(df['RTRNDESVAMNT'] >= 26132.0)   & (df['RTRNDESVAMNT'] < 39090.0), 'DAVRANIS'] = 'CAT_8'\n",
    "    df.loc[(df['RTRNDESVAMNT'] >= 39090.0)   & (df['RTRNDESVAMNT'] < 70245.0), 'DAVRANIS'] = 'CAT_9'\n",
    "    df.loc[(df['RTRNDESVAMNT'] >= 70245.0), 'DAVRANIS'] = 'CAT_10'\n",
    "davranis_ekle_x(df_test)\n",
    "\n",
    "davranis ={\"CAT_1\"  : 20, \"CAT_2\"  : 3,  \"CAT_3\"  : 6,  \"CAT_4\"  : 18, \"CAT_5\" : 14, \n",
    "           \"CAT_6\"  : 15, \"CAT_7\"  : 4,  \"CAT_8\"  : 12, \"CAT_9\"  : 16, \"CAT_10\" : 10, \n",
    "           \n",
    "        }\n",
    "\n",
    "# df1_y  etiklerleri barındırıyor \n",
    "df_test['davranıs_cod']  = df_test[\"DAVRANIS\"].map(davranis)\n",
    "del df_test[\"DAVRANIS\"]\n",
    "\n",
    "del df_test[\"CONTCOLLAMNT\"]\n",
    "del df_test[\"INTPHNNUM03\"]\n",
    "df_test[\"Aktiflik\"] = np.dot(df_test['DISTNUM12'], df_test['CONTMONTHAMNT'])/df_test['INTLOGNUM12']\n",
    "\n",
    "scaler=StandardScaler()\n",
    "df_test=scaler.fit_transform(df_test)\n",
    "\n",
    "df_test=df_test.reshape(df_test.shape[0],df_test.shape[1],1)\n"
   ]
  },
  {
   "cell_type": "code",
   "execution_count": null,
   "metadata": {},
   "outputs": [],
   "source": [
    "predictions = model.predict(df_test)\n"
   ]
  },
  {
   "cell_type": "code",
   "execution_count": null,
   "metadata": {},
   "outputs": [],
   "source": [
    "sonuc  = pd.DataFrame(predictions)\n",
    "\n",
    "sonuc.info()"
   ]
  },
  {
   "cell_type": "code",
   "execution_count": null,
   "metadata": {},
   "outputs": [],
   "source": [
    "len(predictions)"
   ]
  },
  {
   "cell_type": "code",
   "execution_count": null,
   "metadata": {},
   "outputs": [],
   "source": [
    "samplesub = pd.read_csv('sample_submission.csv')\n",
    "samplesub[\"Predicted\"] = sonuc.copy()\n",
    "samplesub.to_csv('sample_submission.csv',index=False)"
   ]
  },
  {
   "cell_type": "code",
   "execution_count": null,
   "metadata": {},
   "outputs": [],
   "source": [
    "from tensorflow.keras.models import Sequential, save_model, load_model\n",
    "\n",
    "filepath = './saved_model'\n",
    "save_model(model, filepath)\n",
    "#model = load_model(filepath, compile = True)"
   ]
  },
  {
   "cell_type": "code",
   "execution_count": null,
   "metadata": {},
   "outputs": [],
   "source": []
  }
 ],
 "metadata": {
  "kernelspec": {
   "display_name": "Python 3",
   "language": "python",
   "name": "python3"
  },
  "language_info": {
   "codemirror_mode": {
    "name": "ipython",
    "version": 3
   },
   "file_extension": ".py",
   "mimetype": "text/x-python",
   "name": "python",
   "nbconvert_exporter": "python",
   "pygments_lexer": "ipython3",
   "version": "3.7.4"
  }
 },
 "nbformat": 4,
 "nbformat_minor": 2
}
